{
  "nbformat": 4,
  "nbformat_minor": 0,
  "metadata": {
    "colab": {
      "provenance": [],
      "collapsed_sections": [
        "jHQK2PfCmLAt",
        "815qFwEyueH6",
        "elIWKF6ZsrVn",
        "MbldZogYtGun"
      ]
    },
    "kernelspec": {
      "name": "python3",
      "display_name": "Python 3"
    },
    "language_info": {
      "name": "python"
    }
  },
  "cells": [
    {
      "cell_type": "markdown",
      "source": [
        "# Artificial Neural Network **Combined Cycle Power Plant**"
      ],
      "metadata": {
        "id": "nLwaUebel2sI"
      }
    },
    {
      "cell_type": "markdown",
      "source": [
        "## Part 1 - Data Preprocessing"
      ],
      "metadata": {
        "id": "OXihsslPmU5z"
      }
    },
    {
      "cell_type": "markdown",
      "source": [
        "### Importing the libraries"
      ],
      "metadata": {
        "id": "jHQK2PfCmLAt"
      }
    },
    {
      "cell_type": "code",
      "execution_count": 2,
      "metadata": {
        "id": "9_oOcay7l1pi"
      },
      "outputs": [],
      "source": [
        "import numpy as np\n",
        "import pandas as pd\n",
        "import tensorflow as tf"
      ]
    },
    {
      "cell_type": "code",
      "source": [
        "tf.__version__"
      ],
      "metadata": {
        "colab": {
          "base_uri": "https://localhost:8080/",
          "height": 36
        },
        "id": "ORC56iVHabFe",
        "outputId": "b55bdb92-2fc8-4971-ac03-a981199e90c5"
      },
      "execution_count": 4,
      "outputs": [
        {
          "output_type": "execute_result",
          "data": {
            "text/plain": [
              "'2.12.0'"
            ],
            "application/vnd.google.colaboratory.intrinsic+json": {
              "type": "string"
            }
          },
          "metadata": {},
          "execution_count": 4
        }
      ]
    },
    {
      "cell_type": "markdown",
      "source": [
        "### Importing the dataset"
      ],
      "metadata": {
        "id": "815qFwEyueH6"
      }
    },
    {
      "cell_type": "code",
      "source": [
        "dataset = pd.read_excel('Folds5x2_pp.xlsx')\n",
        "X = dataset.iloc[:, :-1].values\n",
        "y = dataset.iloc[:, -1].values"
      ],
      "metadata": {
        "id": "g6-FrWPfl2K2"
      },
      "execution_count": 4,
      "outputs": []
    },
    {
      "cell_type": "code",
      "source": [
        "print(X[0,:])\n",
        "print(y[0])"
      ],
      "metadata": {
        "colab": {
          "base_uri": "https://localhost:8080/"
        },
        "id": "116tlHOWuq19",
        "outputId": "f7b0dfa5-a897-4440-e1fc-9ea9f3ef29d2"
      },
      "execution_count": 5,
      "outputs": [
        {
          "output_type": "stream",
          "name": "stdout",
          "text": [
            "[  14.96   41.76 1024.07   73.17]\n",
            "463.26\n"
          ]
        }
      ]
    },
    {
      "cell_type": "markdown",
      "source": [
        "### Splitting the dataset into the Training set and Test set"
      ],
      "metadata": {
        "id": "elIWKF6ZsrVn"
      }
    },
    {
      "cell_type": "code",
      "source": [
        "from sklearn.model_selection import train_test_split\n",
        "X_train, X_test, y_train, y_test = train_test_split(X, y, test_size = 0.2, random_state = 0)"
      ],
      "metadata": {
        "id": "0dLvWOjHs7wL"
      },
      "execution_count": 6,
      "outputs": []
    },
    {
      "cell_type": "code",
      "source": [
        "print(X_train)\n",
        "np.size(X_train)"
      ],
      "metadata": {
        "id": "d5bZPYSvvUBi"
      },
      "execution_count": null,
      "outputs": []
    },
    {
      "cell_type": "code",
      "source": [
        "np.size(X_test)\n"
      ],
      "metadata": {
        "colab": {
          "base_uri": "https://localhost:8080/"
        },
        "id": "EhlA8oZ-eFgj",
        "outputId": "3864a98e-d845-4e6d-95ea-4e423fe68d6b"
      },
      "execution_count": 12,
      "outputs": [
        {
          "output_type": "execute_result",
          "data": {
            "text/plain": [
              "7656"
            ]
          },
          "metadata": {},
          "execution_count": 12
        }
      ]
    },
    {
      "cell_type": "code",
      "source": [
        "np.size(X_train)"
      ],
      "metadata": {
        "colab": {
          "base_uri": "https://localhost:8080/"
        },
        "id": "2osV8LwlTaiU",
        "outputId": "68f5d47a-a9c6-46a7-8d9d-90d6cd18703a"
      },
      "execution_count": 13,
      "outputs": [
        {
          "output_type": "execute_result",
          "data": {
            "text/plain": [
              "7654"
            ]
          },
          "metadata": {},
          "execution_count": 13
        }
      ]
    },
    {
      "cell_type": "code",
      "source": [
        "np.size(y_test)"
      ],
      "metadata": {
        "colab": {
          "base_uri": "https://localhost:8080/"
        },
        "id": "3QI1ZIUkTfHq",
        "outputId": "1e20efca-e538-4944-a84c-2db61df4baf1"
      },
      "execution_count": 14,
      "outputs": [
        {
          "output_type": "execute_result",
          "data": {
            "text/plain": [
              "1914"
            ]
          },
          "metadata": {},
          "execution_count": 14
        }
      ]
    },
    {
      "cell_type": "code",
      "source": [
        "np.size(y_train)"
      ],
      "metadata": {
        "colab": {
          "base_uri": "https://localhost:8080/"
        },
        "id": "4IrAEp5cThY_",
        "outputId": "83f7ff2f-2fa2-447d-d5e3-7301ac9fdd0d"
      },
      "execution_count": 15,
      "outputs": [
        {
          "output_type": "execute_result",
          "data": {
            "text/plain": [
              "7654"
            ]
          },
          "metadata": {},
          "execution_count": 15
        }
      ]
    },
    {
      "cell_type": "markdown",
      "source": [
        "## Part 2 - Building the ANN"
      ],
      "metadata": {
        "id": "MbldZogYtGun"
      }
    },
    {
      "cell_type": "markdown",
      "source": [
        "### Initializing the ANN"
      ],
      "metadata": {
        "id": "grpZ_ibLtS4d"
      }
    },
    {
      "cell_type": "code",
      "source": [
        "ann = tf.keras.models.Sequential()"
      ],
      "metadata": {
        "id": "my249j4itI1o"
      },
      "execution_count": 7,
      "outputs": []
    },
    {
      "cell_type": "markdown",
      "source": [
        "### Adding the input layer and the first hidden layer"
      ],
      "metadata": {
        "id": "9JHDZZy4tbrL"
      }
    },
    {
      "cell_type": "code",
      "source": [
        "ann.add(tf.keras.layers.Dense(units=6, activation='relu'))"
      ],
      "metadata": {
        "id": "UcV3-IrftdY2"
      },
      "execution_count": 11,
      "outputs": []
    },
    {
      "cell_type": "code",
      "source": [
        "#print(ann.output_shape)\n",
        "print(ann.compute_output_signature)"
      ],
      "metadata": {
        "colab": {
          "base_uri": "https://localhost:8080/"
        },
        "id": "Idq3eTYVoliJ",
        "outputId": "40f58463-0220-40c2-cb39-d967f740f3db"
      },
      "execution_count": 13,
      "outputs": [
        {
          "output_type": "stream",
          "name": "stdout",
          "text": [
            "<bound method Layer.compute_output_signature of <keras.engine.sequential.Sequential object at 0x7d664df64490>>\n"
          ]
        }
      ]
    },
    {
      "cell_type": "markdown",
      "source": [
        "### Adding the second hidden layer"
      ],
      "metadata": {
        "id": "b-fPrkTVtf6_"
      }
    },
    {
      "cell_type": "code",
      "source": [
        "ann.add(tf.keras.layers.Dense(units=6, activation='relu'))"
      ],
      "metadata": {
        "id": "XkuEilavpAxj"
      },
      "execution_count": 14,
      "outputs": []
    },
    {
      "cell_type": "code",
      "source": [
        "print(ann.compute_output_signature)"
      ],
      "metadata": {
        "colab": {
          "base_uri": "https://localhost:8080/"
        },
        "id": "fK0qOw99pHyr",
        "outputId": "9298da1f-99a4-418b-b90e-1ed79aa0c997"
      },
      "execution_count": 20,
      "outputs": [
        {
          "output_type": "stream",
          "name": "stdout",
          "text": [
            "<bound method Layer.compute_output_signature of <keras.engine.sequential.Sequential object at 0x7d664df64490>>\n"
          ]
        }
      ]
    },
    {
      "cell_type": "markdown",
      "source": [
        "### Adding the output layer"
      ],
      "metadata": {
        "id": "qPEHKuuhtirm"
      }
    },
    {
      "cell_type": "code",
      "source": [
        "ann.add(tf.keras.layers.Dense(units=1))"
      ],
      "metadata": {
        "id": "WMnp097TpUn2"
      },
      "execution_count": 21,
      "outputs": []
    },
    {
      "cell_type": "markdown",
      "source": [
        "## Part 3 - Training the ANN"
      ],
      "metadata": {
        "id": "0KX3iUg3tlUY"
      }
    },
    {
      "cell_type": "markdown",
      "source": [
        "### Compiling the ANN"
      ],
      "metadata": {
        "id": "IrllRDhBtoXj"
      }
    },
    {
      "cell_type": "code",
      "source": [
        "ann.compile(optimizer='adam', loss='mean_squared_error')"
      ],
      "metadata": {
        "id": "gvsdhkf90B5W"
      },
      "execution_count": 22,
      "outputs": []
    },
    {
      "cell_type": "markdown",
      "source": [
        "### Training the ANN model on the Training set"
      ],
      "metadata": {
        "id": "ZIUTP5odtvBt"
      }
    },
    {
      "cell_type": "code",
      "source": [
        "ann.fit(X_train,y_train,batch_size=32, epochs=150)"
      ],
      "metadata": {
        "colab": {
          "base_uri": "https://localhost:8080/"
        },
        "id": "trFy8Csc1YXx",
        "outputId": "c0a33a12-43a3-4493-9f1b-04d337c8e98c"
      },
      "execution_count": 24,
      "outputs": [
        {
          "output_type": "stream",
          "name": "stdout",
          "text": [
            "Epoch 1/150\n",
            "240/240 [==============================] - 1s 2ms/step - loss: 28.1627\n",
            "Epoch 2/150\n",
            "240/240 [==============================] - 1s 2ms/step - loss: 27.2844\n",
            "Epoch 3/150\n",
            "240/240 [==============================] - 1s 2ms/step - loss: 28.0367\n",
            "Epoch 4/150\n",
            "240/240 [==============================] - 1s 2ms/step - loss: 27.3216\n",
            "Epoch 5/150\n",
            "240/240 [==============================] - 1s 2ms/step - loss: 27.7349\n",
            "Epoch 6/150\n",
            "240/240 [==============================] - 1s 2ms/step - loss: 26.6912\n",
            "Epoch 7/150\n",
            "240/240 [==============================] - 1s 2ms/step - loss: 27.7966\n",
            "Epoch 8/150\n",
            "240/240 [==============================] - 1s 2ms/step - loss: 27.6396\n",
            "Epoch 9/150\n",
            "240/240 [==============================] - 0s 2ms/step - loss: 27.6791\n",
            "Epoch 10/150\n",
            "240/240 [==============================] - 1s 2ms/step - loss: 28.2903\n",
            "Epoch 11/150\n",
            "240/240 [==============================] - 0s 2ms/step - loss: 27.3272\n",
            "Epoch 12/150\n",
            "240/240 [==============================] - 1s 2ms/step - loss: 27.2361\n",
            "Epoch 13/150\n",
            "240/240 [==============================] - 1s 2ms/step - loss: 28.5368\n",
            "Epoch 14/150\n",
            "240/240 [==============================] - 1s 2ms/step - loss: 28.1837\n",
            "Epoch 15/150\n",
            "240/240 [==============================] - 1s 2ms/step - loss: 27.6533\n",
            "Epoch 16/150\n",
            "240/240 [==============================] - 1s 3ms/step - loss: 27.1056\n",
            "Epoch 17/150\n",
            "240/240 [==============================] - 1s 3ms/step - loss: 27.8569\n",
            "Epoch 18/150\n",
            "240/240 [==============================] - 1s 3ms/step - loss: 26.9688\n",
            "Epoch 19/150\n",
            "240/240 [==============================] - 1s 3ms/step - loss: 27.6744\n",
            "Epoch 20/150\n",
            "240/240 [==============================] - 1s 3ms/step - loss: 28.9943\n",
            "Epoch 21/150\n",
            "240/240 [==============================] - 0s 2ms/step - loss: 26.7058\n",
            "Epoch 22/150\n",
            "240/240 [==============================] - 1s 2ms/step - loss: 27.1748\n",
            "Epoch 23/150\n",
            "240/240 [==============================] - 1s 2ms/step - loss: 28.1449\n",
            "Epoch 24/150\n",
            "240/240 [==============================] - 1s 2ms/step - loss: 27.7970\n",
            "Epoch 25/150\n",
            "240/240 [==============================] - 1s 2ms/step - loss: 27.8556\n",
            "Epoch 26/150\n",
            "240/240 [==============================] - 1s 2ms/step - loss: 27.2364\n",
            "Epoch 27/150\n",
            "240/240 [==============================] - 1s 2ms/step - loss: 27.4499\n",
            "Epoch 28/150\n",
            "240/240 [==============================] - 1s 2ms/step - loss: 27.3922\n",
            "Epoch 29/150\n",
            "240/240 [==============================] - 0s 2ms/step - loss: 26.6717\n",
            "Epoch 30/150\n",
            "240/240 [==============================] - 1s 2ms/step - loss: 27.0912\n",
            "Epoch 31/150\n",
            "240/240 [==============================] - 1s 2ms/step - loss: 26.8521\n",
            "Epoch 32/150\n",
            "240/240 [==============================] - 1s 2ms/step - loss: 28.1367\n",
            "Epoch 33/150\n",
            "240/240 [==============================] - 1s 2ms/step - loss: 27.7939\n",
            "Epoch 34/150\n",
            "240/240 [==============================] - 1s 2ms/step - loss: 27.2814\n",
            "Epoch 35/150\n",
            "240/240 [==============================] - 0s 2ms/step - loss: 28.0342\n",
            "Epoch 36/150\n",
            "240/240 [==============================] - 1s 2ms/step - loss: 27.6108\n",
            "Epoch 37/150\n",
            "240/240 [==============================] - 1s 2ms/step - loss: 27.2374\n",
            "Epoch 38/150\n",
            "240/240 [==============================] - 1s 2ms/step - loss: 26.6891\n",
            "Epoch 39/150\n",
            "240/240 [==============================] - 1s 3ms/step - loss: 27.5050\n",
            "Epoch 40/150\n",
            "240/240 [==============================] - 1s 3ms/step - loss: 28.8477\n",
            "Epoch 41/150\n",
            "240/240 [==============================] - 1s 3ms/step - loss: 27.3136\n",
            "Epoch 42/150\n",
            "240/240 [==============================] - 1s 3ms/step - loss: 26.8668\n",
            "Epoch 43/150\n",
            "240/240 [==============================] - 1s 3ms/step - loss: 27.2890\n",
            "Epoch 44/150\n",
            "240/240 [==============================] - 1s 2ms/step - loss: 27.5107\n",
            "Epoch 45/150\n",
            "240/240 [==============================] - 1s 2ms/step - loss: 27.7300\n",
            "Epoch 46/150\n",
            "240/240 [==============================] - 1s 2ms/step - loss: 27.4242\n",
            "Epoch 47/150\n",
            "240/240 [==============================] - 1s 2ms/step - loss: 27.8711\n",
            "Epoch 48/150\n",
            "240/240 [==============================] - 1s 2ms/step - loss: 27.9879\n",
            "Epoch 49/150\n",
            "240/240 [==============================] - 1s 2ms/step - loss: 27.6291\n",
            "Epoch 50/150\n",
            "240/240 [==============================] - 1s 2ms/step - loss: 26.9043\n",
            "Epoch 51/150\n",
            "240/240 [==============================] - 1s 2ms/step - loss: 27.0095\n",
            "Epoch 52/150\n",
            "240/240 [==============================] - 1s 2ms/step - loss: 27.7224\n",
            "Epoch 53/150\n",
            "240/240 [==============================] - 1s 2ms/step - loss: 28.1188\n",
            "Epoch 54/150\n",
            "240/240 [==============================] - 1s 2ms/step - loss: 28.2036\n",
            "Epoch 55/150\n",
            "240/240 [==============================] - 1s 2ms/step - loss: 26.7376\n",
            "Epoch 56/150\n",
            "240/240 [==============================] - 1s 2ms/step - loss: 28.2373\n",
            "Epoch 57/150\n",
            "240/240 [==============================] - 1s 2ms/step - loss: 27.3456\n",
            "Epoch 58/150\n",
            "240/240 [==============================] - 1s 2ms/step - loss: 26.8336\n",
            "Epoch 59/150\n",
            "240/240 [==============================] - 1s 2ms/step - loss: 27.6945\n",
            "Epoch 60/150\n",
            "240/240 [==============================] - 1s 2ms/step - loss: 27.7990\n",
            "Epoch 61/150\n",
            "240/240 [==============================] - 1s 2ms/step - loss: 27.2526\n",
            "Epoch 62/150\n",
            "240/240 [==============================] - 1s 3ms/step - loss: 27.4355\n",
            "Epoch 63/150\n",
            "240/240 [==============================] - 1s 3ms/step - loss: 27.7414\n",
            "Epoch 64/150\n",
            "240/240 [==============================] - 1s 3ms/step - loss: 27.6128\n",
            "Epoch 65/150\n",
            "240/240 [==============================] - 1s 3ms/step - loss: 27.4909\n",
            "Epoch 66/150\n",
            "240/240 [==============================] - 1s 2ms/step - loss: 27.4823\n",
            "Epoch 67/150\n",
            "240/240 [==============================] - 1s 2ms/step - loss: 27.8173\n",
            "Epoch 68/150\n",
            "240/240 [==============================] - 0s 2ms/step - loss: 27.0342\n",
            "Epoch 69/150\n",
            "240/240 [==============================] - 1s 2ms/step - loss: 26.9159\n",
            "Epoch 70/150\n",
            "240/240 [==============================] - 1s 2ms/step - loss: 27.0742\n",
            "Epoch 71/150\n",
            "240/240 [==============================] - 1s 2ms/step - loss: 28.1569\n",
            "Epoch 72/150\n",
            "240/240 [==============================] - 1s 2ms/step - loss: 26.9241\n",
            "Epoch 73/150\n",
            "240/240 [==============================] - 1s 2ms/step - loss: 27.2708\n",
            "Epoch 74/150\n",
            "240/240 [==============================] - 1s 2ms/step - loss: 27.8957\n",
            "Epoch 75/150\n",
            "240/240 [==============================] - 1s 2ms/step - loss: 27.2985\n",
            "Epoch 76/150\n",
            "240/240 [==============================] - 1s 2ms/step - loss: 26.8718\n",
            "Epoch 77/150\n",
            "240/240 [==============================] - 1s 2ms/step - loss: 27.7232\n",
            "Epoch 78/150\n",
            "240/240 [==============================] - 1s 2ms/step - loss: 27.2753\n",
            "Epoch 79/150\n",
            "240/240 [==============================] - 1s 2ms/step - loss: 27.0894\n",
            "Epoch 80/150\n",
            "240/240 [==============================] - 1s 2ms/step - loss: 27.2240\n",
            "Epoch 81/150\n",
            "240/240 [==============================] - 1s 2ms/step - loss: 27.3819\n",
            "Epoch 82/150\n",
            "240/240 [==============================] - 1s 2ms/step - loss: 27.1634\n",
            "Epoch 83/150\n",
            "240/240 [==============================] - 1s 2ms/step - loss: 27.5842\n",
            "Epoch 84/150\n",
            "240/240 [==============================] - 1s 3ms/step - loss: 27.6131\n",
            "Epoch 85/150\n",
            "240/240 [==============================] - 1s 3ms/step - loss: 26.6278\n",
            "Epoch 86/150\n",
            "240/240 [==============================] - 1s 3ms/step - loss: 27.1424\n",
            "Epoch 87/150\n",
            "240/240 [==============================] - 1s 3ms/step - loss: 27.5537\n",
            "Epoch 88/150\n",
            "240/240 [==============================] - 1s 3ms/step - loss: 27.6115\n",
            "Epoch 89/150\n",
            "240/240 [==============================] - 1s 2ms/step - loss: 27.5073\n",
            "Epoch 90/150\n",
            "240/240 [==============================] - 1s 2ms/step - loss: 27.2760\n",
            "Epoch 91/150\n",
            "240/240 [==============================] - 1s 2ms/step - loss: 28.8810\n",
            "Epoch 92/150\n",
            "240/240 [==============================] - 1s 2ms/step - loss: 27.2345\n",
            "Epoch 93/150\n",
            "240/240 [==============================] - 1s 2ms/step - loss: 27.3682\n",
            "Epoch 94/150\n",
            "240/240 [==============================] - 1s 2ms/step - loss: 27.0254\n",
            "Epoch 95/150\n",
            "240/240 [==============================] - 1s 2ms/step - loss: 27.1310\n",
            "Epoch 96/150\n",
            "240/240 [==============================] - 1s 2ms/step - loss: 28.3190\n",
            "Epoch 97/150\n",
            "240/240 [==============================] - 1s 2ms/step - loss: 26.8109\n",
            "Epoch 98/150\n",
            "240/240 [==============================] - 1s 2ms/step - loss: 27.1825\n",
            "Epoch 99/150\n",
            "240/240 [==============================] - 1s 2ms/step - loss: 27.5276\n",
            "Epoch 100/150\n",
            "240/240 [==============================] - 1s 2ms/step - loss: 27.1691\n",
            "Epoch 101/150\n",
            "240/240 [==============================] - 1s 2ms/step - loss: 27.6720\n",
            "Epoch 102/150\n",
            "240/240 [==============================] - 1s 2ms/step - loss: 27.2386\n",
            "Epoch 103/150\n",
            "240/240 [==============================] - 1s 2ms/step - loss: 27.8566\n",
            "Epoch 104/150\n",
            "240/240 [==============================] - 1s 2ms/step - loss: 28.4241\n",
            "Epoch 105/150\n",
            "240/240 [==============================] - 1s 2ms/step - loss: 27.7599\n",
            "Epoch 106/150\n",
            "240/240 [==============================] - 1s 2ms/step - loss: 27.0536\n",
            "Epoch 107/150\n",
            "240/240 [==============================] - 1s 3ms/step - loss: 27.6636\n",
            "Epoch 108/150\n",
            "240/240 [==============================] - 1s 3ms/step - loss: 27.7096\n",
            "Epoch 109/150\n",
            "240/240 [==============================] - 1s 3ms/step - loss: 26.9639\n",
            "Epoch 110/150\n",
            "240/240 [==============================] - 1s 4ms/step - loss: 26.9074\n",
            "Epoch 111/150\n",
            "240/240 [==============================] - 1s 2ms/step - loss: 26.9453\n",
            "Epoch 112/150\n",
            "240/240 [==============================] - 0s 2ms/step - loss: 27.5069\n",
            "Epoch 113/150\n",
            "240/240 [==============================] - 1s 2ms/step - loss: 27.7099\n",
            "Epoch 114/150\n",
            "240/240 [==============================] - 1s 3ms/step - loss: 28.0554\n",
            "Epoch 115/150\n",
            "240/240 [==============================] - 1s 2ms/step - loss: 28.1510\n",
            "Epoch 116/150\n",
            "240/240 [==============================] - 1s 2ms/step - loss: 27.3425\n",
            "Epoch 117/150\n",
            "240/240 [==============================] - 1s 2ms/step - loss: 27.2067\n",
            "Epoch 118/150\n",
            "240/240 [==============================] - 1s 2ms/step - loss: 26.8407\n",
            "Epoch 119/150\n",
            "240/240 [==============================] - 1s 2ms/step - loss: 27.3898\n",
            "Epoch 120/150\n",
            "240/240 [==============================] - 1s 2ms/step - loss: 27.1990\n",
            "Epoch 121/150\n",
            "240/240 [==============================] - 1s 2ms/step - loss: 28.5579\n",
            "Epoch 122/150\n",
            "240/240 [==============================] - 1s 2ms/step - loss: 27.2873\n",
            "Epoch 123/150\n",
            "240/240 [==============================] - 1s 2ms/step - loss: 27.8910\n",
            "Epoch 124/150\n",
            "240/240 [==============================] - 1s 2ms/step - loss: 28.0429\n",
            "Epoch 125/150\n",
            "240/240 [==============================] - 1s 2ms/step - loss: 27.2324\n",
            "Epoch 126/150\n",
            "240/240 [==============================] - 1s 2ms/step - loss: 27.1043\n",
            "Epoch 127/150\n",
            "240/240 [==============================] - 1s 2ms/step - loss: 27.7876\n",
            "Epoch 128/150\n",
            "240/240 [==============================] - 1s 2ms/step - loss: 27.3905\n",
            "Epoch 129/150\n",
            "240/240 [==============================] - 1s 3ms/step - loss: 27.1419\n",
            "Epoch 130/150\n",
            "240/240 [==============================] - 1s 3ms/step - loss: 27.4912\n",
            "Epoch 131/150\n",
            "240/240 [==============================] - 1s 3ms/step - loss: 27.5012\n",
            "Epoch 132/150\n",
            "240/240 [==============================] - 1s 3ms/step - loss: 26.9444\n",
            "Epoch 133/150\n",
            "240/240 [==============================] - 1s 3ms/step - loss: 27.2541\n",
            "Epoch 134/150\n",
            "240/240 [==============================] - 1s 2ms/step - loss: 27.3972\n",
            "Epoch 135/150\n",
            "240/240 [==============================] - 1s 2ms/step - loss: 27.5986\n",
            "Epoch 136/150\n",
            "240/240 [==============================] - 1s 2ms/step - loss: 27.7941\n",
            "Epoch 137/150\n",
            "240/240 [==============================] - 1s 2ms/step - loss: 27.4725\n",
            "Epoch 138/150\n",
            "240/240 [==============================] - 1s 2ms/step - loss: 27.0206\n",
            "Epoch 139/150\n",
            "240/240 [==============================] - 1s 2ms/step - loss: 26.9539\n",
            "Epoch 140/150\n",
            "240/240 [==============================] - 1s 2ms/step - loss: 27.4396\n",
            "Epoch 141/150\n",
            "240/240 [==============================] - 1s 2ms/step - loss: 26.9430\n",
            "Epoch 142/150\n",
            "240/240 [==============================] - 1s 2ms/step - loss: 27.3368\n",
            "Epoch 143/150\n",
            "240/240 [==============================] - 1s 2ms/step - loss: 27.0997\n",
            "Epoch 144/150\n",
            "240/240 [==============================] - 1s 2ms/step - loss: 27.3594\n",
            "Epoch 145/150\n",
            "240/240 [==============================] - 1s 2ms/step - loss: 27.2348\n",
            "Epoch 146/150\n",
            "240/240 [==============================] - 1s 2ms/step - loss: 27.7596\n",
            "Epoch 147/150\n",
            "240/240 [==============================] - 0s 2ms/step - loss: 27.1790\n",
            "Epoch 148/150\n",
            "240/240 [==============================] - 1s 2ms/step - loss: 28.2104\n",
            "Epoch 149/150\n",
            "240/240 [==============================] - 1s 2ms/step - loss: 27.5686\n",
            "Epoch 150/150\n",
            "240/240 [==============================] - 1s 2ms/step - loss: 27.6644\n"
          ]
        },
        {
          "output_type": "execute_result",
          "data": {
            "text/plain": [
              "<keras.callbacks.History at 0x7d663a9a77f0>"
            ]
          },
          "metadata": {},
          "execution_count": 24
        }
      ]
    },
    {
      "cell_type": "markdown",
      "source": [
        "### Predicting the results of the Test set"
      ],
      "metadata": {
        "id": "sgxGPb2hty_9"
      }
    },
    {
      "cell_type": "code",
      "source": [
        "y_pred= ann.predict(X_test)\n",
        "np.set_printoptions(precision=2)\n",
        "print(np.concatenate((y_pred.reshape(len(y_pred),1), y_test.reshape(len(y_test),1)),1))"
      ],
      "metadata": {
        "colab": {
          "base_uri": "https://localhost:8080/"
        },
        "id": "z32tOEqK3tx3",
        "outputId": "643cb840-2f9b-4202-ef4f-784c26412e22"
      },
      "execution_count": 26,
      "outputs": [
        {
          "output_type": "stream",
          "name": "stdout",
          "text": [
            "60/60 [==============================] - 0s 1ms/step\n",
            "[[431.45 431.23]\n",
            " [462.44 460.01]\n",
            " [465.93 461.14]\n",
            " ...\n",
            " [473.2  473.26]\n",
            " [439.97 438.  ]\n",
            " [459.23 463.28]]\n"
          ]
        }
      ]
    },
    {
      "cell_type": "code",
      "source": [
        "print(np.concatenate((y_pred.reshape(1,len(y_pred)), y_test.reshape(1, len(y_test))),0))"
      ],
      "metadata": {
        "colab": {
          "base_uri": "https://localhost:8080/"
        },
        "id": "7e0XvwJ24Gyp",
        "outputId": "8ad1f282-a573-42c4-c86e-89fb110c600a"
      },
      "execution_count": 36,
      "outputs": [
        {
          "output_type": "stream",
          "name": "stdout",
          "text": [
            "[[431.45 462.44 465.93 ... 473.2  439.97 459.23]\n",
            " [431.23 460.01 461.14 ... 473.26 438.   463.28]]\n"
          ]
        }
      ]
    },
    {
      "cell_type": "code",
      "source": [
        "from google.colab import drive\n",
        "drive.mount('/content/drive')"
      ],
      "metadata": {
        "id": "E6H_FnbQ5rd-"
      },
      "execution_count": null,
      "outputs": []
    }
  ]
}